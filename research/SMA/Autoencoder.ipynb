{
 "cells": [
  {
   "cell_type": "code",
   "execution_count": 1,
   "metadata": {
    "collapsed": true,
    "deletable": true,
    "editable": true
   },
   "outputs": [],
   "source": [
    "%load_ext autoreload\n",
    "%autoreload 2\n",
    "from __future__ import division, print_function\n",
    "from svd_improvement import *\n",
    "import numpy as np\n",
    "import pandas as pd\n",
    "import tensorflow as tf\n",
    "import matplotlib.pyplot as plt\n",
    "%matplotlib inline\n",
    "seed = 417"
   ]
  },
  {
   "cell_type": "code",
   "execution_count": 2,
   "metadata": {
    "collapsed": true,
    "deletable": true,
    "editable": true
   },
   "outputs": [],
   "source": [
    "ratings, users, movies = load_data()\n",
    "# full matrix is relatively small, so it can be fitted in RAM\n",
    "R = construct_full_matrix(ratings, users, movies, mode='dense')\n",
    "train_mask, test_mask = get_train_test_masks(ratings, users, movies)"
   ]
  },
  {
   "cell_type": "markdown",
   "metadata": {},
   "source": [
    "### Feeding user vectors to autoencoder"
   ]
  },
  {
   "cell_type": "code",
   "execution_count": 17,
   "metadata": {
    "collapsed": true,
    "deletable": true,
    "editable": true
   },
   "outputs": [],
   "source": [
    "rank = 256\n",
    "U, V = svd_2_factors(R * train_mask, k=rank, method='user_wise')\n",
    "R_svd = np.dot(U, V.T)"
   ]
  },
  {
   "cell_type": "code",
   "execution_count": 12,
   "metadata": {
    "collapsed": false,
    "deletable": true,
    "editable": true
   },
   "outputs": [
    {
     "name": "stdout",
     "output_type": "stream",
     "text": [
      "Epoch: 001, cost = 92863.13281\n",
      "Epoch: 002, cost = 67105.26562\n",
      "Epoch: 003, cost = 47402.19531\n",
      "Epoch: 004, cost = 32711.28516\n",
      "Epoch: 005, cost = 22039.03516\n",
      "Epoch: 006, cost = 14489.41211\n",
      "Epoch: 007, cost = 9290.45703\n",
      "Epoch: 008, cost = 5806.59668\n",
      "Epoch: 009, cost = 3535.37207\n",
      "Epoch: 010, cost = 2095.54053\n",
      "Epoch: 011, cost = 1207.91309\n",
      "Epoch: 012, cost = 676.22156\n",
      "Epoch: 013, cost = 367.38336\n",
      "Epoch: 014, cost = 193.56589\n",
      "Epoch: 015, cost = 99.07327\n",
      "Epoch: 016, cost = 49.36213\n",
      "Epoch: 017, cost = 24.06050\n",
      "Epoch: 018, cost = 11.56610\n",
      "Epoch: 019, cost = 5.61595\n",
      "Epoch: 020, cost = 2.93596\n",
      "Epoch: 021, cost = 1.78608\n",
      "Epoch: 022, cost = 1.32040\n",
      "Epoch: 023, cost = 1.16333\n",
      "Epoch: 024, cost = 1.11477\n",
      "Epoch: 025, cost = 1.09570\n",
      "Epoch: 026, cost = 1.04994\n",
      "Epoch: 027, cost = 1.05793\n",
      "Epoch: 028, cost = 1.02418\n",
      "Epoch: 029, cost = 1.03963\n",
      "Epoch: 030, cost = 1.00668\n",
      "Epoch: 031, cost = 0.99135\n",
      "Epoch: 032, cost = 0.98574\n",
      "Epoch: 033, cost = 0.95717\n",
      "Epoch: 034, cost = 0.97734\n",
      "Epoch: 035, cost = 0.95076\n",
      "Epoch: 036, cost = 0.93926\n",
      "Epoch: 037, cost = 0.93998\n",
      "Epoch: 038, cost = 0.96166\n",
      "Epoch: 039, cost = 0.91809\n",
      "Epoch: 040, cost = 0.90372\n",
      "Optimization Finished!\n"
     ]
    }
   ],
   "source": [
    "sess, X, X_pred = sma_with_ae(R, train_mask, R_svd, rank)"
   ]
  },
  {
   "cell_type": "code",
   "execution_count": 18,
   "metadata": {
    "collapsed": false,
    "deletable": true,
    "editable": true,
    "scrolled": false
   },
   "outputs": [],
   "source": [
    "R_sma = sess.run(X_pred, feed_dict = {X: R})"
   ]
  },
  {
   "cell_type": "code",
   "execution_count": 20,
   "metadata": {
    "collapsed": false,
    "deletable": true,
    "editable": true
   },
   "outputs": [
    {
     "data": {
      "text/plain": [
       "(0.22207984, 0.33995951979640027)"
      ]
     },
     "execution_count": 20,
     "metadata": {},
     "output_type": "execute_result"
    }
   ],
   "source": [
    "rmse(R, R_sma, mask=train_mask), rmse(R, R_svd, mask=train_mask)"
   ]
  },
  {
   "cell_type": "code",
   "execution_count": 21,
   "metadata": {
    "collapsed": false,
    "deletable": true,
    "editable": true
   },
   "outputs": [
    {
     "data": {
      "text/plain": [
       "(0.23326716, 0.64350645592020383)"
      ]
     },
     "execution_count": 21,
     "metadata": {},
     "output_type": "execute_result"
    }
   ],
   "source": [
    "rmse(R, R_sma, mask=test_mask), rmse(R, R_svd, mask=test_mask)"
   ]
  },
  {
   "cell_type": "markdown",
   "metadata": {
    "collapsed": true,
    "deletable": true,
    "editable": true
   },
   "source": [
    "### Concatenating user and item"
   ]
  },
  {
   "cell_type": "code",
   "execution_count": 4,
   "metadata": {
    "collapsed": false,
    "deletable": true,
    "editable": true
   },
   "outputs": [],
   "source": [
    "rank = 32\n",
    "U, V = svd_2_factors(R * train_mask, k=rank)\n",
    "R_svd = np.dot(U, V.T)"
   ]
  },
  {
   "cell_type": "code",
   "execution_count": null,
   "metadata": {
    "collapsed": false,
    "deletable": true,
    "editable": true,
    "scrolled": true
   },
   "outputs": [],
   "source": [
    "sess, X, X_pred = sma_with_ae(R, train_mask, R_svd, rank, 'ui_concat')"
   ]
  },
  {
   "cell_type": "code",
   "execution_count": null,
   "metadata": {
    "collapsed": true,
    "deletable": true,
    "editable": true
   },
   "outputs": [],
   "source": [
    "nnz_indices = np.where(test_mask)\n",
    "batch_count = int(math.ceil(len(nnz_indices) / batch_size))\n",
    "u_batch = R.iloc[nnz_indices[0][i*batch_size : (i+1)*batch_size], :].values\n",
    "i_batch = R.iloc[:, nnz_indices[1][i*batch_size : (i+1)*batch_size]].values.T\n",
    "X_batch = np.hstack((u_batch, i_batch))"
   ]
  },
  {
   "cell_type": "code",
   "execution_count": null,
   "metadata": {
    "collapsed": true,
    "deletable": true,
    "editable": true
   },
   "outputs": [],
   "source": [
    "R_sma = sess.run(X_pred, feed_dict = {X: R})"
   ]
  }
 ],
 "metadata": {
  "kernelspec": {
   "display_name": "Python 2",
   "language": "python",
   "name": "python2"
  },
  "language_info": {
   "codemirror_mode": {
    "name": "ipython",
    "version": 2
   },
   "file_extension": ".py",
   "mimetype": "text/x-python",
   "name": "python",
   "nbconvert_exporter": "python",
   "pygments_lexer": "ipython2",
   "version": "2.7.12"
  }
 },
 "nbformat": 4,
 "nbformat_minor": 2
}
