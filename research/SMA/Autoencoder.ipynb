{
 "cells": [
  {
   "cell_type": "code",
   "execution_count": 1,
   "metadata": {
    "collapsed": true,
    "deletable": true,
    "editable": true
   },
   "outputs": [],
   "source": [
    "from __future__ import division, print_function\n",
    "from svd_improvement import *\n",
    "import numpy as np\n",
    "import pandas as pd\n",
    "import tensorflow as tf\n",
    "from scipy.sparse import csr_matrix\n",
    "from scipy.linalg import svd, diagsvd\n",
    "from scipy.sparse.linalg import svds\n",
    "import matplotlib.pyplot as plt\n",
    "%matplotlib inline\n",
    "seed = 417"
   ]
  },
  {
   "cell_type": "code",
   "execution_count": 2,
   "metadata": {
    "collapsed": true,
    "deletable": true,
    "editable": true
   },
   "outputs": [],
   "source": [
    "ratings, users, movies = load_data()\n",
    "# full matrix is relatively small, so it can be fitted in RAM\n",
    "R = construct_full_matrix(ratings, users, movies, mode='dense')\n",
    "train_mask, test_mask = get_train_test_masks(ratings, users, movies)"
   ]
  },
  {
   "cell_type": "code",
   "execution_count": 3,
   "metadata": {
    "collapsed": true,
    "deletable": true,
    "editable": true
   },
   "outputs": [],
   "source": [
    "learning_rate = 0.01\n",
    "n_epoch = 20\n",
    "batch_size = 32\n",
    "display_step = 1\n",
    "K = 3\n",
    "reg_U = 0.06\n",
    "reg_V = 0.06\n",
    "\n",
    "n_input = R.shape[1]\n",
    "n_hidden_1 = 256"
   ]
  },
  {
   "cell_type": "code",
   "execution_count": 4,
   "metadata": {
    "collapsed": true,
    "deletable": true,
    "editable": true
   },
   "outputs": [],
   "source": [
    "X = tf.placeholder(\"float\", [None, n_input])\n",
    "mask = tf.placeholder(\"float\", [K+1, None, n_input])  # bool actually\n",
    "\n",
    "weights = {\n",
    "    'encoder_h1': tf.Variable(tf.random_normal([n_input, n_hidden_1])),\n",
    "    'decoder_h1': tf.Variable(tf.random_normal([n_hidden_1, n_input])),\n",
    "}\n",
    "biases = {\n",
    "    'encoder_b1': tf.Variable(tf.random_normal([n_hidden_1])),\n",
    "    'decoder_b1': tf.Variable(tf.random_normal([n_input])),\n",
    "}"
   ]
  },
  {
   "cell_type": "code",
   "execution_count": 5,
   "metadata": {
    "collapsed": true,
    "deletable": true,
    "editable": true
   },
   "outputs": [],
   "source": [
    "def encoder(x):\n",
    "    layer_1 = tf.add(tf.matmul(x, weights['encoder_h1']), \n",
    "                     biases['encoder_b1'])\n",
    "    return layer_1\n",
    "\n",
    "\n",
    "def decoder(x):\n",
    "    layer_1 = tf.add(tf.matmul(x, weights['decoder_h1']), \n",
    "                     biases['decoder_b1'])\n",
    "    return layer_1"
   ]
  },
  {
   "cell_type": "code",
   "execution_count": 6,
   "metadata": {
    "collapsed": true,
    "deletable": true,
    "editable": true
   },
   "outputs": [],
   "source": [
    "k = 256\n",
    "U, s, Vh = svds(csr_matrix(R * train_mask), k=k)\n",
    "Sigma = np.zeros((U.shape[1], Vh.shape[0]))\n",
    "Sigma[range(len(s)), range(len(s))] = s\n",
    "V = np.dot(Vh.T, Sigma.T)"
   ]
  },
  {
   "cell_type": "code",
   "execution_count": 7,
   "metadata": {
    "collapsed": true,
    "deletable": true,
    "editable": true
   },
   "outputs": [],
   "source": [
    "lambdas = np.ones(K+1)"
   ]
  },
  {
   "cell_type": "code",
   "execution_count": 8,
   "metadata": {
    "collapsed": false,
    "deletable": true,
    "editable": true
   },
   "outputs": [],
   "source": [
    "choice_prob = 0.7\n",
    "R_appr = np.dot(U, V.T)\n",
    "av_error = rmse(R.values, R_appr)\n",
    "rho_mask = np.random.rand(*R.shape) <= choice_prob\n",
    "diff_mask = np.abs(R.values - R_appr) <= av_error\n",
    "easy_pred_indices = np.logical_not(np.logical_xor(rho_mask, diff_mask))\n",
    "nnz_entries = np.zeros(R.shape, dtype=bool)\n",
    "nnz_entries[np.where(R)] = True\n",
    "hard_pred_indices = np.logical_xor(nnz_entries[np.newaxis, :, :], divide_set(easy_pred_indices, lambdas.shape[0]-1))"
   ]
  },
  {
   "cell_type": "code",
   "execution_count": 9,
   "metadata": {
    "collapsed": true,
    "deletable": true,
    "editable": true
   },
   "outputs": [],
   "source": [
    "encoder_op = encoder(X)\n",
    "decoder_op = decoder(encoder_op)\n",
    "\n",
    "y_pred = decoder_op\n",
    "y_true = X\n",
    "\n",
    "\n",
    "cost = tf.sqrt(tf.div(tf.reduce_sum(tf.pow(tf.multiply((y_true - y_pred)[np.newaxis, :, :], mask), 2), axis=(1, 2)), \n",
    "                      tf.reduce_sum(mask, axis=(1, 2))))\n",
    "cost = tf.reduce_sum(tf.multiply(cost, tf.constant(lambdas, dtype='float')))\n",
    "cost += reg_U * tf.reduce_sum(tf.pow(weights['encoder_h1'], 2))\n",
    "cost += reg_V * tf.reduce_sum(tf.pow(weights['decoder_h1'], 2))\n",
    "optimizer = tf.train.RMSPropOptimizer(learning_rate).minimize(cost)\n",
    "\n",
    "init = tf.global_variables_initializer()"
   ]
  },
  {
   "cell_type": "code",
   "execution_count": 132,
   "metadata": {
    "collapsed": true,
    "deletable": true,
    "editable": true
   },
   "outputs": [],
   "source": [
    "R_train = R * train_mask"
   ]
  },
  {
   "cell_type": "code",
   "execution_count": 153,
   "metadata": {
    "collapsed": true,
    "deletable": true,
    "editable": true
   },
   "outputs": [],
   "source": [
    "n_epoch = 30\n",
    "batch_size = 32  # R.shape[0]"
   ]
  },
  {
   "cell_type": "code",
   "execution_count": 154,
   "metadata": {
    "collapsed": false,
    "deletable": true,
    "editable": true
   },
   "outputs": [
    {
     "name": "stdout",
     "output_type": "stream",
     "text": [
      "Epoch: 0001 cost= 4178.850097656\n",
      "Epoch: 0002 cost= 10.561882973\n",
      "Epoch: 0003 cost= 3.312506676\n",
      "Epoch: 0004 cost= 22.641895294\n",
      "Epoch: 0005 cost= 2.073425770\n",
      "Epoch: 0006 cost= 2.245977163\n",
      "Epoch: 0007 cost= 19.672286987\n",
      "Epoch: 0008 cost= 3.757085800\n",
      "Epoch: 0009 cost= 32.208808899\n",
      "Epoch: 0010 cost= 19.869768143\n",
      "Epoch: 0011 cost= 37.960319519\n",
      "Epoch: 0012 cost= 30.406936646\n",
      "Epoch: 0013 cost= 15.409044266\n",
      "Epoch: 0014 cost= 29.915733337\n",
      "Epoch: 0015 cost= 20.637386322\n",
      "Epoch: 0016 cost= 26.217214584\n",
      "Epoch: 0017 cost= 33.569442749\n",
      "Epoch: 0018 cost= 34.363590240\n",
      "Epoch: 0019 cost= 32.727203369\n",
      "Epoch: 0020 cost= 3.019398689\n",
      "Epoch: 0021 cost= 33.077320099\n",
      "Epoch: 0022 cost= 4.351412296\n",
      "Epoch: 0023 cost= 31.440570831\n",
      "Epoch: 0024 cost= 28.790927887\n",
      "Epoch: 0025 cost= 2.116193295\n",
      "Epoch: 0026 cost= 2.508628845\n",
      "Epoch: 0027 cost= 36.567768097\n",
      "Epoch: 0028 cost= 6.647939205\n",
      "Epoch: 0029 cost= 2.296278954\n",
      "Epoch: 0030 cost= 2.220875978\n",
      "Optimization Finished!\n"
     ]
    }
   ],
   "source": [
    "sess = tf.Session()\n",
    "sess.run(init)\n",
    "batch_count = int(math.ceil(R.shape[0] / batch_size))\n",
    "\n",
    "for epoch in range(n_epoch):\n",
    "    for i in range(batch_count):\n",
    "        X_batch = R_train.iloc[i*batch_size : (i+1)*batch_size, :]\n",
    "        mask_batch = hard_pred_indices[:, i*batch_size : (i+1)*batch_size, :]\n",
    "\n",
    "        _, c = sess.run([optimizer, cost], feed_dict={X: X_batch, mask: mask_batch})\n",
    "    # Display logs per epoch step\n",
    "    if epoch % display_step == 0:\n",
    "        print(\"Epoch:\", '%04d' % (epoch+1),\n",
    "              \"cost=\", \"{:.9f}\".format(c))\n",
    "\n",
    "print(\"Optimization Finished!\")"
   ]
  },
  {
   "cell_type": "code",
   "execution_count": 161,
   "metadata": {
    "collapsed": true,
    "deletable": true,
    "editable": true
   },
   "outputs": [],
   "source": [
    "tmp = sess.run(y_pred, feed_dict = {X: R})"
   ]
  },
  {
   "cell_type": "code",
   "execution_count": 169,
   "metadata": {
    "collapsed": false,
    "deletable": true,
    "editable": true
   },
   "outputs": [
    {
     "data": {
      "text/plain": [
       "(0.35026139, 0.33995953286733321)"
      ]
     },
     "execution_count": 169,
     "metadata": {},
     "output_type": "execute_result"
    }
   ],
   "source": [
    "rmse(R, tmp, mask=train_mask), rmse(R, np.dot(U, V.T), mask=train_mask)"
   ]
  },
  {
   "cell_type": "code",
   "execution_count": 170,
   "metadata": {
    "collapsed": false,
    "deletable": true,
    "editable": true
   },
   "outputs": [
    {
     "data": {
      "text/plain": [
       "(0.37770927, 0.64350642607939412)"
      ]
     },
     "execution_count": 170,
     "metadata": {},
     "output_type": "execute_result"
    }
   ],
   "source": [
    "rmse(R, tmp, mask=test_mask), rmse(R, np.dot(U, V.T), mask=test_mask)"
   ]
  },
  {
   "cell_type": "code",
   "execution_count": 136,
   "metadata": {
    "collapsed": true,
    "deletable": true,
    "editable": true
   },
   "outputs": [],
   "source": [
    "sess.close()"
   ]
  },
  {
   "cell_type": "code",
   "execution_count": null,
   "metadata": {
    "collapsed": true,
    "deletable": true,
    "editable": true
   },
   "outputs": [],
   "source": []
  }
 ],
 "metadata": {
  "kernelspec": {
   "display_name": "Python 2",
   "language": "python",
   "name": "python2"
  },
  "language_info": {
   "codemirror_mode": {
    "name": "ipython",
    "version": 2
   },
   "file_extension": ".py",
   "mimetype": "text/x-python",
   "name": "python",
   "nbconvert_exporter": "python",
   "pygments_lexer": "ipython2",
   "version": "2.7.12"
  }
 },
 "nbformat": 4,
 "nbformat_minor": 2
}
